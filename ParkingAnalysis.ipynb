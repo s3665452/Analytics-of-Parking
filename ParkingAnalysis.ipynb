{
 "cells": [
  {
   "cell_type": "markdown",
   "metadata": {},
   "source": [
    "# MELBOURNE PARKING DATA ANALYTICS"
   ]
  },
  {
   "cell_type": "markdown",
   "metadata": {},
   "source": [
    "## 1.0 DATA PRE PROCESSING\n"
   ]
  },
  {
   "cell_type": "markdown",
   "metadata": {},
   "source": [
    "### 1.1 Imports"
   ]
  },
  {
   "cell_type": "code",
   "execution_count": 33,
   "metadata": {},
   "outputs": [],
   "source": [
    "import pandas as pd\n",
    "import numpy as np\n",
    "\n",
    "parkingDB = pd.read_csv(\"parking_duration_of_parking_event_vs_street_ID.csv\")\n"
   ]
  },
  {
   "cell_type": "markdown",
   "metadata": {},
   "source": [
    "### 1.1 Column Modifications"
   ]
  },
  {
   "cell_type": "markdown",
   "metadata": {},
   "source": [
    "1.1.1 HEADINGS"
   ]
  },
  {
   "cell_type": "code",
   "execution_count": 34,
   "metadata": {},
   "outputs": [
    {
     "name": "stdout",
     "output_type": "stream",
     "text": [
      "R̲e̲n̲a̲m̲e̲d̲ ̲C̲o̲l̲u̲m̲n̲s\n",
      "Area Name --> Area\n",
      "Street Name --> Street\n",
      "Duration of Parking Event (in seconds) --> Parking Duration (s)\n",
      "Between Street 1 --> Street Limit 1\n",
      "Between Street 2 --> Street Limit 2\n",
      "In Violation? --> Violation\n",
      "\n",
      "note: all other column names remained constant\n"
     ]
    }
   ],
   "source": [
    "#renaming code\n",
    "parkingDB = parkingDB.rename(columns={'Area Name':'Area', 'Street Name':'Street', 'Duration of Parking Event (in seconds)':'Parking Duration (s)', 'Between Street 1':'Street Limit 1','Between Street 2':'Street Limit 2', 'In Violation?': 'Violation' })\n",
    "\n",
    "#explanation\n",
    "print(\"\\u0332\".join(\"Renamed Columns\"))\n",
    "print(\"Area Name --> Area\")\n",
    "print(\"Street Name --> Street\")\n",
    "print(\"Duration of Parking Event (in seconds) --> Parking Duration (s)\")\n",
    "print(\"Between Street 1 --> Street Limit 1\")\n",
    "print(\"Between Street 2 --> Street Limit 2\")\n",
    "print(\"In Violation? --> Violation\")\n",
    "print(\"\\nnote: all other column names remained constant\")"
   ]
  },
  {
   "cell_type": "markdown",
   "metadata": {},
   "source": [
    "1.1.2 COLUMN DELETION"
   ]
  },
  {
   "cell_type": "code",
   "execution_count": 35,
   "metadata": {},
   "outputs": [
    {
     "name": "stdout",
     "output_type": "stream",
     "text": [
      "C̲h̲e̲c̲k̲i̲n̲g̲ ̲S̲t̲r̲e̲e̲t̲ ̲E̲n̲t̲r̲i̲e̲s\n",
      "Number of Entries in 'Column Street':  75\n",
      "Number of Entries in 'Street ID':   75\n",
      "\n",
      "The number of Street ID's against the Column Street entries are equal. This means that the street ID will match up with one street name present in the former column.\n",
      "\n",
      "Both entries will be kept for the time being since the ID can be used to determine the street name later on. This is useful as the the Street name will not have to be transformed to a numerical value.\n"
     ]
    }
   ],
   "source": [
    "#Comparing 'Street' to 'Street ID'\n",
    "print(\"\\u0332\".join(\"Checking Street Entries\"))\n",
    "print('Number of Entries in \\'Column Street\\': ', parkingDB['Street'].unique().size)\n",
    "print('Number of Entries in \\'Street ID\\':  ', parkingDB['Street ID'].unique().size)\n",
    "print(\"\\nThe number of Street ID's against the Column Street entries are equal. This means that the street ID will match up with one street name present in the former column.\")\n",
    "print(\"\\nBoth entries will be kept for the time being since the ID can be used to determine the street name later on. This is useful as the the Street name will not have to be transformed to a numerical value.\")"
   ]
  },
  {
   "cell_type": "markdown",
   "metadata": {},
   "source": [
    "1.1.3 UNIQUE IDENTIFIER CHECK"
   ]
  },
  {
   "cell_type": "code",
   "execution_count": 36,
   "metadata": {},
   "outputs": [
    {
     "name": "stdout",
     "output_type": "stream",
     "text": [
      "This section will check for unique values in columns of interest, find outliers and possible mistakes. \n",
      "\n",
      "Unique Entries in 'Area'  ['Banks' 'Chinatown' 'Courtney' 'Princes Theatre' 'Hyatt' 'County' 'RACV'\n",
      " 'Spencer' 'City Square' 'The Mac' 'Titles' 'Magistrates' 'Rialto'\n",
      " 'Queensberry' 'Victoria Market' 'Supreme' 'Hardware' 'Regency'\n",
      " 'Docklands' 'Tavistock' 'Southbank' 'West Melbourne' 'Jolimont'] \n",
      "\n",
      "Unique Entries in 'Street'  ['MARKET STREET' 'RUSSELL STREET' 'ELIZABETH STREET' 'EXHIBITION STREET'\n",
      " 'LONSDALE STREET' 'Lt COLLINS STREET' 'BOURKE STREET' 'FLINDERS LANE'\n",
      " 'SPRING STREET' 'COLLINS STREET' 'Lt LONSDALE STREET' \"A'BECKETT STREET\"\n",
      " 'Lt BOURKE STREET' 'KING STREET' 'ERROL STREET' 'FRANKLIN STREET'\n",
      " 'Lt DRYBURGH STREET SOUTH' 'WILLIAM STREET' 'WILLS STREET'\n",
      " 'SPENCER STREET' 'FLINDERS STREET' 'THERRY STREET' 'QUEEN STREET'\n",
      " 'LEVESON STREET' \"O'CONNELL STREET\" 'CHETWYND STREET' 'WALSH STREET'\n",
      " 'ANDERSON STREET' 'ROSSLYN STREET' 'LA TROBE STREET' 'BOND STREET'\n",
      " 'CAPEL STREET' 'COBDEN STREET' 'FRANCIS STREET' 'Lt LA TROBE STREET'\n",
      " 'QUEENSBERRY STREET' 'EADES PLACE' 'DRYBURGH STREET' 'CHURCH STREET'\n",
      " 'SWANSTON STREET' 'PEEL STREET' 'DUDLEY STREET' 'CURZON STREET'\n",
      " 'VICTORIA STREET' 'HOWARD STREET' 'ANTHONY STREET' 'RODEN STREET'\n",
      " 'MACKENZIE STREET' 'ABBOTSFORD STREET' 'PRINCESS STREET' 'UNION STREET'\n",
      " 'DODDS STREET' 'GRANT STREET' 'COVENTRY STREET' 'BALSTON STREET'\n",
      " 'KAVANAGH STREET' 'MILES STREET' 'DORCAS STREET' 'SOUTHBANK BOULEVARD'\n",
      " 'STURT STREET' 'WELLS STREET' 'FAWKNER STREET' 'BATMAN STREET'\n",
      " 'LANSDOWNE STREET' 'ALBERT STREET' 'CATHEDRAL PLACE' 'GISBORNE STREET'\n",
      " 'CLARENDON STREET' 'PARLIAMENT PLACE' 'ST ANDREWS PLACE' 'CITY ROAD'\n",
      " 'ST KILDA ROAD' 'WELLINGTON PARADE' 'NICHOLSON STREET' 'JEFFCOTT STREET'] \n",
      "\n",
      "Unique Entries in 'Side of Street'  [5 2 4 3 1] \n",
      "\n",
      "Unique Entries in 'Device ID'  7113 \n",
      "\n",
      "Unique Entries in 'Sign'  329 \n",
      "\n",
      "The values for Device ID indicate that the dataset has multiple events for the same car, and so using this to determine rates wtih repeating visits will be useful in the analysis\n"
     ]
    }
   ],
   "source": [
    "print(\"This section will check for unique values in columns of interest, find outliers and possible mistakes. \\n\")\n",
    "print('Unique Entries in \\'Area\\' ', parkingDB['Area'].unique(), '\\n')\n",
    "print('Unique Entries in \\'Street\\' ', parkingDB['Street'].unique(), '\\n')\n",
    "print('Unique Entries in \\'Side of Street\\' ', parkingDB['Side Of Street'].unique(), '\\n')\n",
    "print('Unique Entries in \\'Device ID\\' ', parkingDB['Device ID'].unique().size, '\\n')\n",
    "print('Unique Entries in \\'Sign\\' ', parkingDB['Sign'].unique().size, '\\n')\n",
    "print(\"The values for Device ID indicate that the dataset has multiple events for the same car, and so using this to determine rates wtih repeating visits will be useful in the analysis\")"
   ]
  },
  {
   "cell_type": "markdown",
   "metadata": {},
   "source": [
    "1.1.4 NULL ROWS CHECK"
   ]
  },
  {
   "cell_type": "code",
   "execution_count": 37,
   "metadata": {},
   "outputs": [
    {
     "name": "stdout",
     "output_type": "stream",
     "text": [
      "This section will check for rows with less than 50% of columns filled. Rows that qualify under this definition will be deleted so as to not tamper with results.\n",
      "Number of Rows Before Row Deletion:  12208178\n",
      "Number of Rows After Row Deletion:  12208178\n"
     ]
    }
   ],
   "source": [
    "print(\"This section will check for rows with less than 50% of columns filled. Rows that qualify under this definition will be deleted so as to not tamper with results.\")\n",
    "print('Number of Rows Before Row Deletion: ', parkingDB.shape[0])\n",
    "parkingDB.dropna(axis = 0, thresh = 6, inplace = True)\n",
    "print('Number of Rows After Row Deletion: ', parkingDB.shape[0])\n",
    "\n"
   ]
  },
  {
   "cell_type": "code",
   "execution_count": 20,
   "metadata": {},
   "outputs": [
    {
     "name": "stdout",
     "output_type": "stream",
     "text": [
      "Now that we have removed problematic row entries in the database, we will perform a null search to see if there are any other null values present.\n",
      "\n",
      "Null Values Present in Each Column:\n",
      "Area                    0\n",
      "Street                  0\n",
      "Street Limit 1          0\n",
      "Street Limit 2          0\n",
      "Side Of Street          0\n",
      "Street Marker           0\n",
      "Arrival Time            0\n",
      "Departure Time          0\n",
      "Parking Duration (s)    0\n",
      "Sign                    0\n",
      "Violation               0\n",
      "Street ID               0\n",
      "Device ID               0\n",
      "dtype: int64\n",
      "\n",
      "There are no null values within the database after cleaning columns with more than 50% of data missing.\n"
     ]
    }
   ],
   "source": [
    "print(\"Now that we have removed problematic row entries in the database, we will perform a null search to see if there are any other null values present.\")\n",
    "print(\"\\nNull Values Present in Each Column:\")\n",
    "print(parkingDB.isnull().sum())\n",
    "print(\"\\nThere are no null values within the database after cleaning columns with more than 50% of data missing.\")"
   ]
  },
  {
   "cell_type": "code",
   "execution_count": null,
   "metadata": {},
   "outputs": [],
   "source": [
    "1.1.5 DATA TRANSFORMATION"
   ]
  }
 ],
 "metadata": {
  "kernelspec": {
   "display_name": "Python 3",
   "language": "python",
   "name": "python3"
  },
  "language_info": {
   "codemirror_mode": {
    "name": "ipython",
    "version": 3
   },
   "file_extension": ".py",
   "mimetype": "text/x-python",
   "name": "python",
   "nbconvert_exporter": "python",
   "pygments_lexer": "ipython3",
   "version": "3.8.3"
  }
 },
 "nbformat": 4,
 "nbformat_minor": 4
}

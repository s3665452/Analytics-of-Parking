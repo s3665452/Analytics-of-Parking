{
 "cells": [
  {
   "cell_type": "code",
   "execution_count": 1,
   "metadata": {},
   "outputs": [],
   "source": [
    "import dask.dataframe as dask\n",
    "import pandas as pd"
   ]
  },
  {
   "cell_type": "code",
   "execution_count": 2,
   "metadata": {},
   "outputs": [],
   "source": [
    "parking_filename = 'parking_duration_of_parking_event_vs_street_ID.csv'"
   ]
  },
  {
   "cell_type": "code",
   "execution_count": 4,
   "metadata": {},
   "outputs": [],
   "source": [
    "parking = dask.read_csv(parking_filename)"
   ]
  },
  {
   "cell_type": "code",
   "execution_count": 9,
   "metadata": {},
   "outputs": [
    {
     "data": {
      "text/html": [
       "<div>\n",
       "<style scoped>\n",
       "    .dataframe tbody tr th:only-of-type {\n",
       "        vertical-align: middle;\n",
       "    }\n",
       "\n",
       "    .dataframe tbody tr th {\n",
       "        vertical-align: top;\n",
       "    }\n",
       "\n",
       "    .dataframe thead th {\n",
       "        text-align: right;\n",
       "    }\n",
       "</style>\n",
       "<table border=\"1\" class=\"dataframe\">\n",
       "  <thead>\n",
       "    <tr style=\"text-align: right;\">\n",
       "      <th></th>\n",
       "      <th>Area Name</th>\n",
       "      <th>Street Name</th>\n",
       "      <th>Between Street 1</th>\n",
       "      <th>Between Street 2</th>\n",
       "      <th>Side Of Street</th>\n",
       "      <th>Street Marker</th>\n",
       "      <th>Arrival Time</th>\n",
       "      <th>Departure Time</th>\n",
       "      <th>Duration of Parking Event (in seconds)</th>\n",
       "      <th>Sign</th>\n",
       "      <th>In Violation?</th>\n",
       "      <th>Street ID</th>\n",
       "      <th>Device ID</th>\n",
       "    </tr>\n",
       "  </thead>\n",
       "  <tbody>\n",
       "    <tr>\n",
       "      <th>0</th>\n",
       "      <td>Banks</td>\n",
       "      <td>MARKET STREET</td>\n",
       "      <td>FLINDERS LANE</td>\n",
       "      <td>FLINDERS STREET</td>\n",
       "      <td>5</td>\n",
       "      <td>1263W</td>\n",
       "      <td>01/10/2011 12:01:10 AM</td>\n",
       "      <td>01/10/2011 12:02:44 AM</td>\n",
       "      <td>94</td>\n",
       "      <td>2P DIS M-SUN 0:00-23:59</td>\n",
       "      <td>0</td>\n",
       "      <td>957</td>\n",
       "      <td>1667</td>\n",
       "    </tr>\n",
       "    <tr>\n",
       "      <th>1</th>\n",
       "      <td>Chinatown</td>\n",
       "      <td>RUSSELL STREET</td>\n",
       "      <td>BOURKE STREET</td>\n",
       "      <td>Lt COLLINS STREET</td>\n",
       "      <td>2</td>\n",
       "      <td>742E</td>\n",
       "      <td>01/10/2011 12:01:11 AM</td>\n",
       "      <td>01/10/2011 03:58:20 AM</td>\n",
       "      <td>14229</td>\n",
       "      <td>4P DIS AOT 12:00-7:30</td>\n",
       "      <td>0</td>\n",
       "      <td>1221</td>\n",
       "      <td>525</td>\n",
       "    </tr>\n",
       "    <tr>\n",
       "      <th>2</th>\n",
       "      <td>Courtney</td>\n",
       "      <td>ELIZABETH STREET</td>\n",
       "      <td>PELHAM STREET</td>\n",
       "      <td>QUEENSBERRY STREET</td>\n",
       "      <td>2</td>\n",
       "      <td>4744E</td>\n",
       "      <td>01/10/2011 12:01:11 AM</td>\n",
       "      <td>01/10/2011 11:00:19 AM</td>\n",
       "      <td>39548</td>\n",
       "      <td>2P DIS M-SUN 0:00-23:59</td>\n",
       "      <td>1</td>\n",
       "      <td>627</td>\n",
       "      <td>3202</td>\n",
       "    </tr>\n",
       "    <tr>\n",
       "      <th>3</th>\n",
       "      <td>Princes Theatre</td>\n",
       "      <td>EXHIBITION STREET</td>\n",
       "      <td>Lt BOURKE STREET</td>\n",
       "      <td>BOURKE STREET</td>\n",
       "      <td>2</td>\n",
       "      <td>452E</td>\n",
       "      <td>01/10/2011 12:01:13 AM</td>\n",
       "      <td>01/10/2011 12:37:42 AM</td>\n",
       "      <td>2189</td>\n",
       "      <td>2P DIS M-SUN 0:00-23:59</td>\n",
       "      <td>0</td>\n",
       "      <td>647</td>\n",
       "      <td>201</td>\n",
       "    </tr>\n",
       "    <tr>\n",
       "      <th>4</th>\n",
       "      <td>Princes Theatre</td>\n",
       "      <td>EXHIBITION STREET</td>\n",
       "      <td>BOURKE STREET</td>\n",
       "      <td>Lt COLLINS STREET</td>\n",
       "      <td>5</td>\n",
       "      <td>429W</td>\n",
       "      <td>01/10/2011 12:01:14 AM</td>\n",
       "      <td>01/10/2011 05:28:10 AM</td>\n",
       "      <td>19616</td>\n",
       "      <td>TKT AREA M-SUN 0:00 - 7:30</td>\n",
       "      <td>0</td>\n",
       "      <td>647</td>\n",
       "      <td>176</td>\n",
       "    </tr>\n",
       "  </tbody>\n",
       "</table>\n",
       "</div>"
      ],
      "text/plain": [
       "         Area Name        Street Name  Between Street 1    Between Street 2  \\\n",
       "0            Banks      MARKET STREET     FLINDERS LANE     FLINDERS STREET   \n",
       "1        Chinatown     RUSSELL STREET     BOURKE STREET   Lt COLLINS STREET   \n",
       "2         Courtney   ELIZABETH STREET     PELHAM STREET  QUEENSBERRY STREET   \n",
       "3  Princes Theatre  EXHIBITION STREET  Lt BOURKE STREET       BOURKE STREET   \n",
       "4  Princes Theatre  EXHIBITION STREET     BOURKE STREET   Lt COLLINS STREET   \n",
       "\n",
       "   Side Of Street Street Marker            Arrival Time  \\\n",
       "0               5         1263W  01/10/2011 12:01:10 AM   \n",
       "1               2          742E  01/10/2011 12:01:11 AM   \n",
       "2               2         4744E  01/10/2011 12:01:11 AM   \n",
       "3               2          452E  01/10/2011 12:01:13 AM   \n",
       "4               5          429W  01/10/2011 12:01:14 AM   \n",
       "\n",
       "           Departure Time  Duration of Parking Event (in seconds)  \\\n",
       "0  01/10/2011 12:02:44 AM                                      94   \n",
       "1  01/10/2011 03:58:20 AM                                   14229   \n",
       "2  01/10/2011 11:00:19 AM                                   39548   \n",
       "3  01/10/2011 12:37:42 AM                                    2189   \n",
       "4  01/10/2011 05:28:10 AM                                   19616   \n",
       "\n",
       "                         Sign  In Violation?  Street ID  Device ID  \n",
       "0     2P DIS M-SUN 0:00-23:59              0        957       1667  \n",
       "1       4P DIS AOT 12:00-7:30              0       1221        525  \n",
       "2     2P DIS M-SUN 0:00-23:59              1        627       3202  \n",
       "3     2P DIS M-SUN 0:00-23:59              0        647        201  \n",
       "4  TKT AREA M-SUN 0:00 - 7:30              0        647        176  "
      ]
     },
     "execution_count": 9,
     "metadata": {},
     "output_type": "execute_result"
    }
   ],
   "source": [
    "parking.head()"
   ]
  },
  {
   "cell_type": "code",
   "execution_count": 16,
   "metadata": {},
   "outputs": [
    {
     "ename": "TypeError",
     "evalue": "'tuple' object is not callable",
     "output_type": "error",
     "traceback": [
      "\u001b[0;31m---------------------------------------------------------------------------\u001b[0m",
      "\u001b[0;31mTypeError\u001b[0m                                 Traceback (most recent call last)",
      "\u001b[0;32m<ipython-input-16-ddcf72519fb1>\u001b[0m in \u001b[0;36m<module>\u001b[0;34m\u001b[0m\n\u001b[0;32m----> 1\u001b[0;31m \u001b[0mparking\u001b[0m\u001b[0;34m.\u001b[0m\u001b[0mshape\u001b[0m\u001b[0;34m(\u001b[0m\u001b[0;34m)\u001b[0m\u001b[0;34m.\u001b[0m\u001b[0mcompute\u001b[0m\u001b[0;34m(\u001b[0m\u001b[0;34m)\u001b[0m\u001b[0;34m\u001b[0m\u001b[0;34m\u001b[0m\u001b[0m\n\u001b[0m",
      "\u001b[0;31mTypeError\u001b[0m: 'tuple' object is not callable"
     ]
    }
   ],
   "source": [
    "parking.shape().compute()"
   ]
  },
  {
   "cell_type": "code",
   "execution_count": 14,
   "metadata": {},
   "outputs": [
    {
     "data": {
      "text/plain": [
       "Queensberry        1251600\n",
       "Princes Theatre     904186\n",
       "Victoria Market     845505\n",
       "Regency             774955\n",
       "Southbank           772985\n",
       "The Mac             748260\n",
       "Hyatt               718992\n",
       "Titles              684197\n",
       "Rialto              544591\n",
       "City Square         527002\n",
       "County              518606\n",
       "Hardware            499803\n",
       "Chinatown           482723\n",
       "Courtney            473033\n",
       "Magistrates         456578\n",
       "Banks               446577\n",
       "Spencer             444369\n",
       "RACV                395147\n",
       "Jolimont            353732\n",
       "Supreme             235165\n",
       "Tavistock            64306\n",
       "Docklands            62753\n",
       "West Melbourne        3113\n",
       "Name: Area Name, dtype: int64"
      ]
     },
     "execution_count": 14,
     "metadata": {},
     "output_type": "execute_result"
    }
   ],
   "source": [
    "parking['Area Name'].value_counts().compute()"
   ]
  },
  {
   "cell_type": "code",
   "execution_count": 17,
   "metadata": {},
   "outputs": [
    {
     "data": {
      "text/plain": [
       "LONSDALE STREET             1170701\n",
       "QUEEN STREET                 919635\n",
       "LA TROBE STREET              711087\n",
       "EXHIBITION STREET            698729\n",
       "FRANKLIN STREET              654323\n",
       "                             ...   \n",
       "Lt DRYBURGH STREET SOUTH       4448\n",
       "BATMAN STREET                  3457\n",
       "UNION STREET                   2176\n",
       "ANDERSON STREET                2173\n",
       "ABBOTSFORD STREET              1327\n",
       "Name: Street Name, Length: 75, dtype: int64"
      ]
     },
     "execution_count": 17,
     "metadata": {},
     "output_type": "execute_result"
    }
   ],
   "source": [
    "parking['Street Name'].value_counts().compute()"
   ]
  },
  {
   "cell_type": "code",
   "execution_count": 18,
   "metadata": {},
   "outputs": [
    {
     "data": {
      "text/plain": [
       "KING STREET           1092126\n",
       "QUEEN STREET           994427\n",
       "WILLIAM STREET         788501\n",
       "QUEENSBERRY STREET     777738\n",
       "RUSSELL STREET         669756\n",
       "                       ...   \n",
       "STANLEY STREET           1148\n",
       "PROVOST STREET            602\n",
       "ABBOTSFORD STREET         574\n",
       "LAURENS STREET            564\n",
       "MUNSTER TERRACE           165\n",
       "Name: Between Street 1, Length: 73, dtype: int64"
      ]
     },
     "execution_count": 18,
     "metadata": {},
     "output_type": "execute_result"
    }
   ],
   "source": [
    "parking['Between Street 1'].value_counts().compute()"
   ]
  },
  {
   "cell_type": "code",
   "execution_count": 19,
   "metadata": {},
   "outputs": [
    {
     "data": {
      "text/plain": [
       "WILLIAM STREET         1054440\n",
       "ELIZABETH STREET       1022481\n",
       "VICTORIA STREET         995084\n",
       "QUEEN STREET            952430\n",
       "EXHIBITION STREET       656965\n",
       "                        ...   \n",
       "MILLER STREET             2173\n",
       "SOUTHBANK BOULEVARD       1335\n",
       "CURZON STREET              574\n",
       "MUNSTER TERRACE            564\n",
       "DRYBURGH STREET            165\n",
       "Name: Between Street 2, Length: 73, dtype: int64"
      ]
     },
     "execution_count": 19,
     "metadata": {},
     "output_type": "execute_result"
    }
   ],
   "source": [
    "parking['Between Street 2'].value_counts().compute()"
   ]
  },
  {
   "cell_type": "code",
   "execution_count": 20,
   "metadata": {},
   "outputs": [
    {
     "data": {
      "text/plain": [
       "4    3008809\n",
       "1    2718170\n",
       "3    2672042\n",
       "5    2005692\n",
       "2    1803465\n",
       "Name: Side Of Street, dtype: int64"
      ]
     },
     "execution_count": 20,
     "metadata": {},
     "output_type": "execute_result"
    }
   ],
   "source": [
    "parking['Side Of Street'].value_counts().compute()"
   ]
  },
  {
   "cell_type": "code",
   "execution_count": 23,
   "metadata": {},
   "outputs": [
    {
     "data": {
      "text/plain": [
       "False"
      ]
     },
     "execution_count": 23,
     "metadata": {},
     "output_type": "execute_result"
    }
   ],
   "source": [
    "(parking['Duration of Parking Event (in seconds)'] <= 0).any().compute()"
   ]
  },
  {
   "cell_type": "code",
   "execution_count": 24,
   "metadata": {
    "scrolled": true
   },
   "outputs": [
    {
     "data": {
      "text/plain": [
       "894     1170701\n",
       "1171     919635\n",
       "856      711087\n",
       "647      698729\n",
       "681      654323\n",
       "         ...   \n",
       "917        4448\n",
       "78         3457\n",
       "1368       2176\n",
       "28         2173\n",
       "6          1327\n",
       "Name: Street ID, Length: 75, dtype: int64"
      ]
     },
     "execution_count": 24,
     "metadata": {},
     "output_type": "execute_result"
    }
   ],
   "source": [
    "parking['Street ID'].value_counts().compute()"
   ]
  },
  {
   "cell_type": "code",
   "execution_count": 25,
   "metadata": {},
   "outputs": [
    {
     "data": {
      "text/plain": [
       "False"
      ]
     },
     "execution_count": 25,
     "metadata": {},
     "output_type": "execute_result"
    }
   ],
   "source": [
    "(parking['Device ID'] <= 0).any().compute()"
   ]
  },
  {
   "cell_type": "code",
   "execution_count": null,
   "metadata": {},
   "outputs": [],
   "source": []
  }
 ],
 "metadata": {
  "kernelspec": {
   "display_name": "Python 3",
   "language": "python",
   "name": "python3"
  },
  "language_info": {
   "codemirror_mode": {
    "name": "ipython",
    "version": 3
   },
   "file_extension": ".py",
   "mimetype": "text/x-python",
   "name": "python",
   "nbconvert_exporter": "python",
   "pygments_lexer": "ipython3",
   "version": "3.8.5"
  }
 },
 "nbformat": 4,
 "nbformat_minor": 4
}
